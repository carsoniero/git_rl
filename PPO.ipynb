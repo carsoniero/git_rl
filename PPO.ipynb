{
  "cells": [
    {
      "cell_type": "code",
      "execution_count": 1,
      "metadata": {
        "id": "j9dfWABRNCVm",
        "colab": {
          "base_uri": "https://localhost:8080/"
        },
        "outputId": "1758262e-79d7-4a65-86b2-ee196aa6da55"
      },
      "outputs": [
        {
          "output_type": "stream",
          "name": "stdout",
          "text": [
            "Starting virtual X frame buffer: Xvfb.\n"
          ]
        }
      ],
      "source": [
        "import sys, os\n",
        "if 'google.colab' in sys.modules and not os.path.exists('.setup_complete'):\n",
        "    !wget -q https://raw.githubusercontent.com/yandexdataschool/Practical_RL/master/setup_colab.sh -O- | bash\n",
        "\n",
        "    !pip -q install gymnasium[mujoco]==1.0.0\n",
        "\n",
        "    !touch .setup_complete\n",
        "\n",
        "# This code creates a virtual display to draw game images on.\n",
        "# It will have no effect if your machine has a monitor.\n",
        "if type(os.environ.get(\"DISPLAY\")) is not str or len(os.environ.get(\"DISPLAY\")) == 0:\n",
        "    !bash ../xvfb start\n",
        "    os.environ['DISPLAY'] = ':1'"
      ]
    },
    {
      "cell_type": "markdown",
      "metadata": {
        "id": "WI0kqjVINCVt"
      },
      "source": [
        "# HW4: PPO (up to 5 points)\n",
        "\n",
        "\n",
        "In this notebook you will be implementing Proximal Policy Optimization algorithm,\n",
        "scaled up version of which was used to train [OpenAI Five](https://openai.com/blog/openai-five/)\n",
        "to [win](https://openai.com/blog/how-to-train-your-openai-five/) against the\n",
        "world champions in Dota 2.\n",
        "You will be solving a continuous control environment on which it may be easier and faster\n",
        "to train an agent, however note that PPO here may not be the best algorithm as, for example,\n",
        "Soft Actor Critic may be more suited\n",
        "for continuous control environments."
      ]
    },
    {
      "cell_type": "code",
      "execution_count": 2,
      "metadata": {
        "id": "MZeKC7aO4RIC"
      },
      "outputs": [],
      "source": [
        "from tqdm import tqdm\n",
        "import torch\n",
        "device = torch.device(\"cuda\" if torch.cuda.is_available() else \"cpu\")"
      ]
    },
    {
      "cell_type": "code",
      "source": [
        "import gymnasium as gym\n",
        "print(\"Gymnasium version:\", gym.__version__)"
      ],
      "metadata": {
        "id": "S8I6gI5gYdjz",
        "colab": {
          "base_uri": "https://localhost:8080/"
        },
        "outputId": "74c4e591-9bc6-4f55-a933-9337776c7166"
      },
      "execution_count": 3,
      "outputs": [
        {
          "output_type": "stream",
          "name": "stdout",
          "text": [
            "Gymnasium version: 1.2.0\n"
          ]
        }
      ]
    },
    {
      "cell_type": "code",
      "source": [
        "!pip install --upgrade gymnasium"
      ],
      "metadata": {
        "id": "AHFBP92kY2pR",
        "colab": {
          "base_uri": "https://localhost:8080/"
        },
        "outputId": "64fb2614-698b-4f69-d604-a8bed30cc204"
      },
      "execution_count": 4,
      "outputs": [
        {
          "output_type": "stream",
          "name": "stdout",
          "text": [
            "Requirement already satisfied: gymnasium in /usr/local/lib/python3.12/dist-packages (1.2.0)\n",
            "Requirement already satisfied: numpy>=1.21.0 in /usr/local/lib/python3.12/dist-packages (from gymnasium) (2.0.2)\n",
            "Requirement already satisfied: cloudpickle>=1.2.0 in /usr/local/lib/python3.12/dist-packages (from gymnasium) (3.1.1)\n",
            "Requirement already satisfied: typing-extensions>=4.3.0 in /usr/local/lib/python3.12/dist-packages (from gymnasium) (4.15.0)\n",
            "Requirement already satisfied: farama-notifications>=0.0.1 in /usr/local/lib/python3.12/dist-packages (from gymnasium) (0.0.4)\n"
          ]
        }
      ]
    },
    {
      "cell_type": "code",
      "source": [
        "print(\"Gymnasium version:\", gym.__version__)"
      ],
      "metadata": {
        "id": "FsMq1I57ZE0T",
        "colab": {
          "base_uri": "https://localhost:8080/"
        },
        "outputId": "6409baf9-f842-44a9-dce5-d3b4371302db"
      },
      "execution_count": 5,
      "outputs": [
        {
          "output_type": "stream",
          "name": "stdout",
          "text": [
            "Gymnasium version: 1.2.0\n"
          ]
        }
      ]
    },
    {
      "cell_type": "code",
      "execution_count": 6,
      "metadata": {
        "id": "Y2N76WIRNCVx",
        "colab": {
          "base_uri": "https://localhost:8080/"
        },
        "outputId": "724a4e77-bc1d-430d-919a-d820ae1cb476"
      },
      "outputs": [
        {
          "output_type": "stream",
          "name": "stdout",
          "text": [
            "Observation space:  Box(-inf, inf, (17,), float64)\n",
            "Action space:  Box(-1.0, 1.0, (6,), float32)\n"
          ]
        }
      ],
      "source": [
        "ENV_NAME = \"HalfCheetah-v5\"\n",
        "\n",
        "\n",
        "def make_env(**kwargs):\n",
        "    return gym.make(ENV_NAME, **kwargs)\n",
        "\n",
        "\n",
        "env = make_env(render_mode=\"rgb_array\")\n",
        "print(\"Observation space: \", env.observation_space)\n",
        "print(\"Action space: \", env.action_space)"
      ]
    },
    {
      "cell_type": "code",
      "execution_count": 7,
      "metadata": {
        "id": "XRMAhWjN48Qx",
        "colab": {
          "base_uri": "https://localhost:8080/",
          "height": 453
        },
        "outputId": "b80d3bd8-eb6e-46ea-944e-fd77581df358"
      },
      "outputs": [
        {
          "output_type": "execute_result",
          "data": {
            "text/plain": [
              "<matplotlib.image.AxesImage at 0x7f6ee710a4b0>"
            ]
          },
          "metadata": {},
          "execution_count": 7
        },
        {
          "output_type": "display_data",
          "data": {
            "text/plain": [
              "<Figure size 640x480 with 1 Axes>"
            ],
            "image/png": "[encoded data removed]"
          },
          "metadata": {}
        }
      ],
      "source": [
        "import matplotlib.pyplot as plt\n",
        "\n",
        "env.reset()\n",
        "plt.imshow(env.render())"
      ]
    },
    {
      "cell_type": "markdown",
      "metadata": {
        "id": "E9_3dfCBGolj"
      },
      "source": [
        "[Following 37 implementation details of PPO](https://iclr-blog-track.github.io/2022/03/25/ppo-implementation-details/#Andrychowicz), we apply all necessary wrappers to the environment. We also use a vectorized env to collect transitions in parallel."
      ]
    },
    {
      "cell_type": "code",
      "execution_count": 8,
      "metadata": {
        "id": "sYDYzBuHEM8M"
      },
      "outputs": [],
      "source": [
        "from gymnasium.vector import AsyncVectorEnv\n",
        "from gymnasium.wrappers.vector import (\n",
        "    NormalizeObservation,\n",
        "    NormalizeReward,\n",
        "    ClipReward,\n",
        "    RecordEpisodeStatistics,\n",
        ")\n",
        "\n",
        "\n",
        "def make_vec_env(num_envs, **kwargs):\n",
        "    \"\"\"Creates a vectorized Atari environment with preprocessing.\"\"\"\n",
        "\n",
        "    # Create a list of environment initialization functions\n",
        "    env_fns = [lambda: make_env(**kwargs) for i in range(num_envs)]\n",
        "    envs = AsyncVectorEnv(env_fns, shared_memory=True)\n",
        "    envs = RecordEpisodeStatistics(envs, buffer_length=100000)\n",
        "\n",
        "    # Use running statistics to scale observation\n",
        "    # To have zero mean and unit std\n",
        "    envs = NormalizeObservation(envs)\n",
        "\n",
        "    # Use running std to scale reward\n",
        "    envs = NormalizeReward(envs, gamma=0.99)\n",
        "\n",
        "    # Clip reward after normalization\n",
        "    envs = ClipReward(envs, min_reward=-10, max_reward=10)\n",
        "\n",
        "    return envs\n",
        "\n",
        "\n",
        "# Parameters\n",
        "n_envs = 2  # Number of parallel environments\n",
        "# Create the vectorized environment\n",
        "vec_env = make_vec_env(n_envs)"
      ]
    },
    {
      "cell_type": "markdown",
      "metadata": {
        "id": "_9lf2Z8bNCV0"
      },
      "source": [
        "Next, you will need to define a model for training. We suggest that you use two separate networks: one for policy\n",
        "and another for value function. Each network should be a 3-layer MLP with 64 hidden units, $\\mathrm{tanh}$\n",
        "activation function.\n",
        "\n",
        "Our policy distribution is going to be multivariate normal with diagonal covariance: $\\mathcal{N}(\\mu_\\theta(s), diag (\\sigma_\\theta^2(s)))$\n",
        "The network from above will predict the mean, and the covariance should be represented by a single\n",
        "(learned) vector of size 6 (corresponding to the dimensionality of the action space from above). Or you can also predict the variance using your model. To construct a network akin to the one utilized in the test, the output vector should be twice the size of the action space. The first half of this vector should represent the mean of the actions, while the second half denotes the standard deviation of those actions. Additionally, apply the [softplus function](https://pytorch.org/docs/stable/generated/torch.nn.Softplus.html) to the second half of the output vector to ensure the standard deviation values are positive.\n",
        "\n",
        "Overall the model should return three things: predicted mean and variance of the distribution and value function."
      ]
    },
    {
      "cell_type": "code",
      "execution_count": 9,
      "metadata": {
        "id": "OwwLcUApNCV0"
      },
      "outputs": [],
      "source": [
        "# import tensorflow as tf\n",
        "import torch\n",
        "\n",
        "from torch import nn\n",
        "from torch.nn import functional as F\n",
        "import torch\n",
        "\n",
        "\n",
        "class PolicyModel(nn.Module):\n",
        "    def __init__(self, state_dim, action_dim):\n",
        "        super().__init__()\n",
        "        self.h = 64\n",
        "\n",
        "        self.policy_model = nn.Sequential(\n",
        "            nn.Linear(state_dim, self.h),\n",
        "            nn.Tanh(),\n",
        "            nn.Linear(self.h, 2*action_dim)\n",
        "        )\n",
        "\n",
        "        self.value_model = nn.Sequential(\n",
        "            nn.Linear(state_dim, self.h),\n",
        "            nn.Tanh(),\n",
        "            nn.Linear(self.h, 1)\n",
        "        )\n",
        "\n",
        "        self.action_dim = action_dim\n",
        "\n",
        "\n",
        "\n",
        "    def get_policy(self, x):\n",
        "        out = self.policy_model(x)\n",
        "\n",
        "        mean = torch.tanh(out[:,self.action_dim:])\n",
        "        var = torch.exp(out[:,:self.action_dim])**2\n",
        "\n",
        "        return mean, var\n",
        "\n",
        "    def get_value(self, x):\n",
        "        out = self.value_model(x)\n",
        "        return out\n",
        "\n",
        "    def forward(self, x):\n",
        "        policy = self.get_policy(x)\n",
        "        value = self.get_value(x)\n",
        "\n",
        "        return policy, value"
      ]
    },
    {
      "cell_type": "markdown",
      "metadata": {
        "id": "YI6d9Xq_NCV1"
      },
      "source": [
        "This model will be wrapped by a `Policy`. The policy can work in two modes, but in either case\n",
        "it is going to return dictionary with string-type keys. The first mode is when the policy is\n",
        "used to sample actions for a trajectory which will later be used for training. In this case\n",
        "the flag `training` passed to `act` method is `False` and the method should return\n",
        "a `dict` with the following keys:\n",
        "\n",
        "* `\"actions\"`: sampled actions to pass to the environment\n",
        "* `\"log_probs\"`: log-probabilities of sampled actions\n",
        "* `\"values\"`: value function $V^\\pi(s)$ predictions.\n",
        "\n",
        "We don't need to use the values under these keys for training, so all of them should be of type `np.ndarray`.\n",
        "\n",
        "When `training` is `True`, the model is training on a given batch of observations. In this\n",
        "case it should return a `dict` with the following keys\n",
        "\n",
        "* `\"distribution\"`: an instance of multivariate normal distribution (`torch.distributions.MultivariateNormal`)\n",
        "* `\"values\"`: value function $V^\\pi(s)$ prediction.\n",
        "\n",
        "The distinction about the modes comes into play depending on where the policy is used: if it is called from `EnvRunner`,\n",
        "the `training` flag is `False`, if it is called from `PPO`, the `training` flag is `True`. These classes\n",
        "will be described below."
      ]
    },
    {
      "cell_type": "code",
      "execution_count": 10,
      "metadata": {
        "id": "C54tGZahXbSa"
      },
      "outputs": [],
      "source": [
        "from torch.distributions.multivariate_normal import MultivariateNormal\n",
        "\n",
        "\n",
        "class Policy:\n",
        "    def __init__(self, model):\n",
        "        self.model = model\n",
        "\n",
        "    def act(self, inputs, training=False):\n",
        "        inputs = torch.tensor(inputs, dtype=torch.float32, device=device)\n",
        "\n",
        "        mean, var = self.model.get_policy(inputs)\n",
        "        cov_matrix = torch.diag_embed(var)\n",
        "        normal_distr = MultivariateNormal(mean, cov_matrix)\n",
        "\n",
        "        raw_actions = normal_distr.rsample()\n",
        "\n",
        "        log_prob_raw = normal_distr.log_prob(raw_actions)\n",
        "\n",
        "        log_jacobian = 2 * (torch.log(torch.tensor(2.0)) - raw_actions - F.softplus(-2 * raw_actions))\n",
        "        log_jacobian = log_jacobian.sum(dim=-1)\n",
        "\n",
        "        log_probs = log_prob_raw - log_jacobian\n",
        "\n",
        "        values = self.model.get_value(inputs)\n",
        "\n",
        "        actions = torch.tanh(raw_actions)\n",
        "\n",
        "        if training:\n",
        "            return {\"distribution\": normal_distr, \"values\": values.squeeze()}\n",
        "        return {\n",
        "            \"raw_actions\": raw_actions.detach().cpu().numpy(),\n",
        "            \"actions\": actions.detach().cpu().numpy(),\n",
        "            \"log_probs\": log_probs.detach().cpu().numpy().squeeze(),\n",
        "            \"values\": values.detach().cpu().numpy().squeeze(),\n",
        "        }"
      ]
    },
    {
      "cell_type": "markdown",
      "metadata": {
        "id": "-kML-jSsNCV2"
      },
      "source": [
        "We will use `EnvRunner` to perform interactions with an environment with a policy for a fixed number of timesteps. Calling `.get_next()` on a runner will return a trajectory &mdash; dictionary\n",
        "containing keys\n",
        "\n",
        "* `\"observations\"`\n",
        "* `\"rewards\"`\n",
        "* `\"resets\"`\n",
        "* `\"actions\"`\n",
        "* all other keys that you defined in `Policy`,\n",
        "\n",
        "under each of these keys there is a `np.ndarray` of specified length $T$ &mdash; the size of partial trajectory.\n",
        "\n",
        "Additionally, before returning a trajectory this runner can apply a list of transformations.\n",
        "Each transformation is simply a callable that should modify passed trajectory in-place."
      ]
    },
    {
      "cell_type": "code",
      "execution_count": 11,
      "metadata": {
        "id": "5LeiuohcNCV3"
      },
      "outputs": [],
      "source": [
        "class AsArray:\n",
        "    \"\"\"\n",
        "    Converts lists of interactions to ndarray.\n",
        "    \"\"\"\n",
        "\n",
        "    def __call__(self, trajectory):\n",
        "        # Modify trajectory inplace.\n",
        "        for k, v in filter(lambda kv: kv[0] != \"state\", trajectory.items()):\n",
        "            trajectory[k] = np.asarray(v)"
      ]
    },
    {
      "cell_type": "code",
      "execution_count": 12,
      "metadata": {
        "id": "S9pQeFux48Qy"
      },
      "outputs": [],
      "source": [
        "\"\"\" RL env runner \"\"\"\n",
        "\n",
        "from collections import defaultdict\n",
        "\n",
        "import numpy as np\n",
        "\n",
        "\n",
        "class EnvRunner:\n",
        "    \"\"\"Reinforcement learning runner in an environment with given policy\"\"\"\n",
        "\n",
        "    def __init__(self, env, policy, rollout_length, transforms=None, step_var=None):\n",
        "        self.env = env\n",
        "        self.policy = policy\n",
        "        self.rollout_length = rollout_length\n",
        "        self.transforms = transforms or []\n",
        "        self.step_var = step_var if step_var is not None else 0\n",
        "        self.state = {\"latest_observation\": self.env.reset()[0]}\n",
        "\n",
        "    @property\n",
        "    def num_envs(self):\n",
        "        \"\"\"Returns number of batched envs or `None` if env is not batched\"\"\"\n",
        "        return getattr(self.env, \"num_envs\", None)\n",
        "\n",
        "    def reset(self, **kwargs):\n",
        "        \"\"\"Resets env and runner states.\"\"\"\n",
        "        self.state[\"latest_observation\"], info = self.env.reset(**kwargs)\n",
        "        self.policy.reset()\n",
        "\n",
        "    def get_next(self):\n",
        "        \"\"\"Runs the agent in the environment.\"\"\"\n",
        "        trajectory = defaultdict(list, {\"actions\": []})\n",
        "        observations = []\n",
        "        rewards = []\n",
        "        resets = []\n",
        "        self.state[\"env_steps\"] = self.rollout_length\n",
        "\n",
        "        for i in range(self.rollout_length):\n",
        "            observations.append(self.state[\"latest_observation\"])\n",
        "            act = self.policy.act(self.state[\"latest_observation\"])\n",
        "            if \"actions\" not in act:\n",
        "                raise ValueError(\n",
        "                    \"result of policy.act must contain 'actions' \"\n",
        "                    f\"but has keys {list(act.keys())}\"\n",
        "                )\n",
        "            for key, val in act.items():\n",
        "                trajectory[key].append(val)\n",
        "            last_action = trajectory[\"actions\"][-1]\n",
        "            # if last_action.ndim == 1:\n",
        "            #     last_action = last_action.reshape(1, -1)\n",
        "\n",
        "            obs, rew, terminated, truncated, _ = self.env.step(\n",
        "                last_action\n",
        "            )\n",
        "            done = np.logical_or(terminated, truncated)\n",
        "            self.state[\"latest_observation\"] = obs\n",
        "            rewards.append(rew)\n",
        "            resets.append(done)\n",
        "            self.step_var += self.num_envs or 1\n",
        "\n",
        "            # Only reset if the env is not batched. Batched envs should\n",
        "            # auto-reset.\n",
        "            if not self.num_envs and np.all(done):\n",
        "                self.state[\"env_steps\"] = i + 1\n",
        "                self.state[\"latest_observation\"] = self.env.reset()[0]\n",
        "\n",
        "        trajectory.update(observations=observations, rewards=rewards, resets=resets)\n",
        "        trajectory[\"state\"] = self.state\n",
        "\n",
        "        for transform in self.transforms:\n",
        "            transform(trajectory)\n",
        "        return trajectory"
      ]
    },
    {
      "cell_type": "code",
      "execution_count": 13,
      "metadata": {
        "id": "wNzPNxKLNCV4"
      },
      "outputs": [],
      "source": [
        "# import numpy as np\n",
        "\n",
        "\n",
        "# class DummyPolicy:\n",
        "#     def act(self, inputs, training=False):\n",
        "#         num_envs = inputs.shape[0]\n",
        "#         assert not training\n",
        "#         return {\"actions\": np.random.randn(num_envs, 6), \"values\": [np.nan] * num_envs}\n",
        "\n",
        "\n",
        "# runner = EnvRunner(vec_env, DummyPolicy(), 3, transforms=[AsArray()])\n",
        "# trajectory = runner.get_next()\n",
        "\n",
        "# {k: v.shape for k, v in trajectory.items() if k != \"state\"}"
      ]
    },
    {
      "cell_type": "markdown",
      "metadata": {
        "id": "NyhcvAMZNCV5"
      },
      "source": [
        "You will need to implement the following two transformations.\n",
        "\n",
        "The first is `GAE` that implements [Generalized Advantage Estimator](https://arxiv.org/abs/1506.02438).\n",
        "You should add two keys to the trajectory: `\"advantages\"` and `\"value_targets\"`. In GAE the advantages\n",
        "$A_t^{\\mathrm{GAE}(\\gamma,\\lambda)}$ are essentially defined as the exponential\n",
        "moving average with parameter $\\lambda$ of the regular advantages\n",
        "$\\hat{A}^{(T)}(s_t) = \\sum_{l=0}^{T-t-1} \\gamma^l r_{t+l} + \\gamma^{T} V^\\pi(s_{T}) - V^\\pi(s_t)$.\n",
        "The exact formula for the computation is the following\n",
        "\n",
        "$$\n",
        "A_{t}^{\\mathrm{GAE}(\\gamma,\\lambda)} = \\sum_{l=0}^{T-t-1} (\\gamma\\lambda)^l\\delta_{t + l}^V, \\, t \\in [0, T)\n",
        "$$\n",
        "where $\\delta_{t+l}^V = r_{t+l} + \\gamma V^\\pi(s_{t+l+1}) - V^\\pi(s_{t+l})$. You can look at the\n",
        "derivation (formulas 11-16) in the paper. Don't forget to reset the summation on terminal\n",
        "states as determined by the flags `trajectory[\"resets\"]`. You can use `trajectory[\"values\"]`\n",
        "to get values of all observations except the most recent which is stored under\n",
        " `trajectory[\"state\"][\"latest_observation\"]`. For this observation you will need to call the policy\n",
        " to get the value prediction.\n",
        "\n",
        "Once you computed the advantages, you can get the targets for training the value function by adding\n",
        "back values:\n",
        "$$\n",
        "\\hat{V}(s_{t}) = A_{t}^{\\mathrm{GAE}(\\gamma,\\lambda)} + V(s_{t}),\n",
        "$$\n",
        "where $\\hat{V}$ is a tensor of value targets that are used to train the value function."
      ]
    },
    {
      "cell_type": "code",
      "execution_count": 14,
      "metadata": {
        "id": "AC5rUuiKNCV6"
      },
      "outputs": [],
      "source": [
        "class GAE:\n",
        "    \"\"\"Generalized Advantage Estimator.\"\"\"\n",
        "\n",
        "    def __init__(self, policy, gamma=0.99, lambda_=0.95):\n",
        "        self.policy = policy\n",
        "        self.gamma = gamma\n",
        "        self.lambda_ = lambda_\n",
        "\n",
        "    def __call__(self, trajectory):\n",
        "        gamma = self.gamma\n",
        "        lambda_ = self.lambda_\n",
        "\n",
        "        rewards = trajectory[\"rewards\"]\n",
        "        values = trajectory[\"values\"]\n",
        "        terminal = trajectory[\"resets\"]\n",
        "\n",
        "        last_obs = torch.from_numpy(trajectory[\"state\"][\"latest_observation\"]).float().to(device)\n",
        "        last_value = self.policy.model.get_value(last_obs).item()\n",
        "\n",
        "        T = len(rewards)\n",
        "        advantages = [0] * T\n",
        "        value_targets = [0] * T\n",
        "        delta, gae = 0, 0\n",
        "\n",
        "        for i in range(T-1, -1,-1):\n",
        "\n",
        "          if i == T - 1:  # Last step\n",
        "              next_value = 0 if terminal[i] else last_value\n",
        "          else:\n",
        "              next_value = 0 if terminal[i] else values[i + 1]\n",
        "\n",
        "          delta = rewards[i] + gamma *  next_value - values[i]\n",
        "          gae = delta + gamma * lambda_ * (1 - int(terminal[i])) * gae\n",
        "\n",
        "          advantages[i] = gae\n",
        "          value_targets[i] = gae + values[i]\n",
        "        trajectory[\"advantages\"]=torch.tensor(advantages)\n",
        "        trajectory[\"value_targets\"]=torch.tensor(value_targets)\n",
        "        return trajectory"
      ]
    },
    {
      "cell_type": "markdown",
      "metadata": {
        "id": "zkDCek2p-OpZ"
      },
      "source": [
        "**Test GAE**"
      ]
    },
    {
      "cell_type": "code",
      "execution_count": 15,
      "metadata": {
        "id": "MBMP47qk978g",
        "colab": {
          "base_uri": "https://localhost:8080/"
        },
        "outputId": "66178e13-e11f-4e04-ae54-f79b14e2022e"
      },
      "outputs": [
        {
          "output_type": "stream",
          "name": "stdout",
          "text": [
            "  % Total    % Received % Xferd  Average Speed   Time    Time     Time  Current\n",
            "                                 Dload  Upload   Total   Spent    Left  Speed\n",
            "100 98432  100 98432    0     0   267k      0 --:--:-- --:--:-- --:--:--  267k\n",
            "  % Total    % Received % Xferd  Average Speed   Time    Time     Time  Current\n",
            "                                 Dload  Upload   Total   Spent    Left  Speed\n",
            "100  8320  100  8320    0     0  23302      0 --:--:-- --:--:-- --:--:-- 23370\n",
            "  % Total    % Received % Xferd  Average Speed   Time    Time     Time  Current\n",
            "                                 Dload  Upload   Total   Spent    Left  Speed\n",
            "100  8320  100  8320    0     0  26353      0 --:--:-- --:--:-- --:--:-- 26329\n",
            "  % Total    % Received % Xferd  Average Speed   Time    Time     Time  Current\n",
            "                                 Dload  Upload   Total   Spent    Left  Speed\n",
            "100  272k  100  272k    0     0   587k      0 --:--:-- --:--:-- --:--:--  587k\n",
            "  % Total    % Received % Xferd  Average Speed   Time    Time     Time  Current\n",
            "                                 Dload  Upload   Total   Spent    Left  Speed\n",
            "100 16512  100 16512    0     0  55289      0 --:--:-- --:--:-- --:--:-- 55409\n",
            "  % Total    % Received % Xferd  Average Speed   Time    Time     Time  Current\n",
            "                                 Dload  Upload   Total   Spent    Left  Speed\n",
            "100  2176  100  2176    0     0   4645      0 --:--:-- --:--:-- --:--:--  4649\n",
            "  % Total    % Received % Xferd  Average Speed   Time    Time     Time  Current\n",
            "                                 Dload  Upload   Total   Spent    Left  Speed\n",
            "100   264  100   264    0     0    540      0 --:--:-- --:--:-- --:--:--   539\n",
            "  % Total    % Received % Xferd  Average Speed   Time    Time     Time  Current\n",
            "                                 Dload  Upload   Total   Spent    Left  Speed\n",
            "100  8320  100  8320    0     0  23521      0 --:--:-- --:--:-- --:--:-- 23569\n",
            "  % Total    % Received % Xferd  Average Speed   Time    Time     Time  Current\n",
            "                                 Dload  Upload   Total   Spent    Left  Speed\n",
            "100  8320  100  8320    0     0  24342      0 --:--:-- --:--:-- --:--:-- 24327\n",
            "  % Total    % Received % Xferd  Average Speed   Time    Time     Time  Current\n",
            "                                 Dload  Upload   Total   Spent    Left  Speed\n",
            "100 51137  100 51137    0     0   147k      0 --:--:-- --:--:-- --:--:--  147k\n"
          ]
        }
      ],
      "source": [
        "!curl -O https://raw.githubusercontent.com/yandexdataschool/Practical_RL/master/week09_policy_II/test_ppo/actions.npy\n",
        "!curl -O https://raw.githubusercontent.com/yandexdataschool/Practical_RL/master/week09_policy_II/test_ppo/log_probs.npy\n",
        "!curl -O https://raw.githubusercontent.com/yandexdataschool/Practical_RL/master/week09_policy_II/test_ppo/values.npy\n",
        "!curl -O https://raw.githubusercontent.com/yandexdataschool/Practical_RL/master/week09_policy_II/test_ppo/observations.npy\n",
        "!curl -O https://raw.githubusercontent.com/yandexdataschool/Practical_RL/master/week09_policy_II/test_ppo/rewards.npy\n",
        "!curl -O https://raw.githubusercontent.com/yandexdataschool/Practical_RL/master/week09_policy_II/test_ppo/resets.npy\n",
        "!curl -O https://raw.githubusercontent.com/yandexdataschool/Practical_RL/master/week09_policy_II/test_ppo/state.npy\n",
        "!curl -O https://raw.githubusercontent.com/yandexdataschool/Practical_RL/master/week09_policy_II/test_ppo/advantages.npy\n",
        "!curl -O https://raw.githubusercontent.com/yandexdataschool/Practical_RL/master/week09_policy_II/test_ppo/value_targets.npy\n",
        "!curl -O https://raw.githubusercontent.com/yandexdataschool/Practical_RL/master/week09_policy_II/test_ppo/policy"
      ]
    },
    {
      "cell_type": "code",
      "execution_count": 16,
      "metadata": {
        "id": "gnzN1lr248Qy",
        "colab": {
          "base_uri": "https://localhost:8080/"
        },
        "outputId": "790058b3-6750-4726-ae4f-72f942af8b57"
      },
      "outputs": [
        {
          "output_type": "stream",
          "name": "stdout",
          "text": [
            "All passed\n"
          ]
        },
        {
          "output_type": "stream",
          "name": "stderr",
          "text": [
            "/tmp/ipython-input-3239981420.py:37: UserWarning: Creating a tensor from a list of numpy.ndarrays is extremely slow. Please consider converting the list to a single numpy.ndarray with numpy.array() before converting to a tensor. (Triggered internally at /pytorch/torch/csrc/utils/tensor_new.cpp:253.)\n",
            "  trajectory[\"advantages\"]=torch.tensor(advantages)\n"
          ]
        }
      ],
      "source": [
        "import numpy as np\n",
        "\n",
        "def test_gae():\n",
        "    trajectory = {}\n",
        "    for key in [\"actions\", \"log_probs\", \"values\", \"observations\", \"rewards\", \"resets\"]:\n",
        "        trajectory[key] = np.load(f\"{key}.npy\", allow_pickle=True)\n",
        "    trajectory[\"state\"] = {\"latest_observation\": np.array([np.load(\"state.npy\")])}\n",
        "\n",
        "    policy = torch.load(f\"policy\", weights_only=False)\n",
        "    # policy.model = policy.model.cuda()\n",
        "    policy.model = policy.model.cpu()\n",
        "    gae_to_test = GAE(policy, gamma=0.99, lambda_=0.95)\n",
        "\n",
        "    gae_to_test(trajectory)\n",
        "\n",
        "    for key in [\"advantages\", \"value_targets\"]:\n",
        "        expected = np.load(f\"{key}.npy\")\n",
        "        generated = trajectory[key]\n",
        "        assert np.allclose(expected.ravel(), generated.ravel(), atol=2e-2), key\n",
        "\n",
        "    print(\"All passed\")\n",
        "\n",
        "\n",
        "test_gae()"
      ]
    },
    {
      "cell_type": "code",
      "source": [],
      "metadata": {
        "id": "MqUSGAQ7DAr8"
      },
      "execution_count": 16,
      "outputs": []
    },
    {
      "cell_type": "markdown",
      "metadata": {
        "id": "yce0A8x7NCV7"
      },
      "source": [
        "The main advantage of PPO over simpler policy based methods like A2C is that it is possible\n",
        "to train on the same trajectory for multiple gradient steps. The following class wraps\n",
        "an `EnvRunner`. It should call the runner to get a trajectory, then return minibatches\n",
        "from it for a number of epochs, shuffling the data before each epoch."
      ]
    },
    {
      "cell_type": "code",
      "execution_count": 17,
      "metadata": {
        "id": "J7tIjwbkNCV8"
      },
      "outputs": [],
      "source": [
        "def flatten_first_two_dims(arr):\n",
        "    # if arr.ndim == 2:\n",
        "    #     return arr.reshape(-1)\n",
        "    if arr.ndim < 2:\n",
        "        return arr.reshape(-1, 1)\n",
        "    elif arr.ndim == 2:\n",
        "        return arr.reshape(-1)\n",
        "    return arr.reshape(arr.shape[0] * arr.shape[1], *arr.shape[2:])\n",
        "\n",
        "\n",
        "class TrajectorySampler:\n",
        "    \"\"\"Samples minibatches from trajectory for a number of epochs.\"\"\"\n",
        "\n",
        "    def __init__(self, runner, num_epochs, num_minibatches, transforms=None):\n",
        "        self.runner = runner\n",
        "        self.num_epochs = num_epochs\n",
        "        self.num_minibatches = num_minibatches\n",
        "        self.transforms = transforms or []\n",
        "        self.minibatch_count = 0\n",
        "        self.epoch_count = 0\n",
        "        self.trajectory = None\n",
        "\n",
        "    def shuffle_trajectory(self):\n",
        "        \"\"\"Shuffles all elements in trajectory.\n",
        "\n",
        "        Should be called at the beginning of each epoch.\n",
        "        \"\"\"\n",
        "        trajectory_len = len(self.trajectory[\"observations\"])\n",
        "\n",
        "        permutation = np.random.permutation(trajectory_len)\n",
        "        for key, value in self.trajectory.items():\n",
        "            if key != \"state\":\n",
        "                self.trajectory[key] = value[permutation]\n",
        "\n",
        "    def squeeze_trajectory(self):\n",
        "        for key, value in self.trajectory.items():\n",
        "            if key != \"state\":\n",
        "                self.trajectory[key] = flatten_first_two_dims(value)\n",
        "\n",
        "    def get_trajectory(self):\n",
        "        self.trajectory = self.runner.get_next()\n",
        "        self.squeeze_trajectory()\n",
        "\n",
        "    def get_next(self):\n",
        "        \"\"\"Returns next minibatch.\"\"\"\n",
        "        if not self.trajectory:\n",
        "            self.get_trajectory()\n",
        "\n",
        "        if self.minibatch_count == self.num_minibatches:\n",
        "            self.shuffle_trajectory()\n",
        "            self.minibatch_count = 0\n",
        "            self.epoch_count += 1\n",
        "\n",
        "        if self.epoch_count == self.num_epochs:\n",
        "            self.get_trajectory()\n",
        "            self.shuffle_trajectory()\n",
        "            self.minibatch_count = 0\n",
        "            self.epoch_count = 0\n",
        "\n",
        "        trajectory_len = self.trajectory[\"observations\"].shape[0]\n",
        "\n",
        "        batch_size = trajectory_len // self.num_minibatches\n",
        "\n",
        "        minibatch = {}\n",
        "        for key, value in self.trajectory.items():\n",
        "            if key != \"state\":\n",
        "                minibatch[key] = value[\n",
        "                    self.minibatch_count\n",
        "                    * batch_size : (self.minibatch_count + 1)\n",
        "                    * batch_size\n",
        "                ]\n",
        "\n",
        "        self.minibatch_count += 1\n",
        "\n",
        "        for transform in self.transforms:\n",
        "            transform(minibatch)\n",
        "\n",
        "        return minibatch"
      ]
    },
    {
      "cell_type": "markdown",
      "metadata": {
        "id": "U1UgHPb0NCV8"
      },
      "source": [
        "A common trick to use with GAE is to normalize advantages, please implement the normalization."
      ]
    },
    {
      "cell_type": "code",
      "execution_count": 18,
      "metadata": {
        "id": "GZrUlmFYNCV9"
      },
      "outputs": [],
      "source": [
        "import numpy as np\n",
        "class NormalizeAdvantages:\n",
        "    \"\"\"Normalizes advantages to have zero mean and unit std.\"\"\"\n",
        "\n",
        "    def __call__(self, trajectory):\n",
        "        #<YOUR_CODER>\n",
        "        advantages = trajectory[\"advantages\"]\n",
        "        normilized_advantages = (advantages-torch.mean(advantages)) / torch.std(advantages)\n",
        "        trajectory[\"advantages\"] = normilized_advantages\n",
        "        return trajectory\n"
      ]
    },
    {
      "cell_type": "markdown",
      "metadata": {
        "id": "DXnare-INCV-"
      },
      "source": [
        "Finally, we can create PPO sampler.\n",
        "\n"
      ]
    },
    {
      "cell_type": "code",
      "execution_count": 19,
      "metadata": {
        "id": "tx0Yr0GtNCV_"
      },
      "outputs": [],
      "source": [
        "def make_ppo_sampler(\n",
        "    env,\n",
        "    policy,\n",
        "    num_runner_steps=2048,\n",
        "    gamma=0.99,\n",
        "    lambda_=0.95,\n",
        "    num_epochs=10,\n",
        "    num_minibatches=32,\n",
        "):\n",
        "    \"\"\"Creates runner for PPO algorithm.\"\"\"\n",
        "    runner_transforms = [AsArray(), GAE(policy, gamma=gamma, lambda_=lambda_)]\n",
        "    runner = EnvRunner(env, policy, num_runner_steps, transforms=runner_transforms)\n",
        "\n",
        "    sampler_transforms = [NormalizeAdvantages()]\n",
        "    sampler = TrajectorySampler(\n",
        "        runner,\n",
        "        num_epochs=num_epochs,\n",
        "        num_minibatches=num_minibatches,\n",
        "        transforms=sampler_transforms,\n",
        "    )\n",
        "    return sampler"
      ]
    },
    {
      "cell_type": "markdown",
      "metadata": {
        "id": "MX1aZueWNCWA"
      },
      "source": [
        "In the next cell you will need to implement Proximal Policy Optimization algorithm itself. The algorithm\n",
        "modifies the typical policy gradient loss in the following way:\n",
        "\n",
        "$$\n",
        "J_{\\pi}(s, a) = \\frac{\\pi_\\theta(a|s)}{\\pi_\\theta^{\\text{old}}(a|s)} \\cdot A^{\\mathrm{GAE}(\\gamma,\\lambda)}(s, a)\n",
        "$$\n",
        "\n",
        "$$\n",
        "J_{\\pi}^{\\text{clipped}}(s, a) = \\mathrm{clip}\\left(\n",
        "\\frac{\\pi_\\theta(a|s)}{\\pi_{\\theta^{\\text{old}}}(a|s)},\n",
        "1 - \\text{cliprange}, 1 + \\text{cliprange}\\right)\\cdot A^{\\mathrm{GAE(\\gamma, \\lambda)}}(s, a)\\\\\n",
        "$$\n",
        "\n",
        "$$\n",
        "L_{\\text{policy}} = -\\frac{1}{T}\\sum_{t=0}^{T-1}\\min\\left(J_\\pi(s_{t}, a_{t}), J_{\\pi}^{\\text{clipped}}(s_{t}, a_{t})\\right).\n",
        "$$\n",
        "\n",
        "The value loss is also modified:\n",
        "\n",
        "$$\n",
        "L_{V}^{\\text{clipped}} = \\frac{1}{T}\\sum_{t=0}^{T-1} \\max(l^{simple}(s_{t}), l^{clipped}(s_{t}))\n",
        "$$\n",
        ", where $l^{simple}$ is your standard critic loss\n",
        "$$\n",
        "l^{simple}(s_{t}) = [V_\\theta(s_{t}) - \\hat{V}(s_{t})]^2\n",
        "$$\n",
        "\n",
        "and $l^{clipped}$ is a clipped version that limits large changes of the value function:\n",
        "$$\n",
        "l^{clipped}(s_{t}) = [\n",
        "V_{\\theta^{\\text{old}}}(s_{t}) +\n",
        "\\text{clip}\\left(\n",
        "V_\\theta(s_{t}) - V_{\\theta^\\text{old}}(s_{t}),\n",
        "-\\text{cliprange}, \\text{cliprange}\n",
        "\\right) - \\hat{V}(s_{t})] ^ 2\n",
        "$$"
      ]
    },
    {
      "cell_type": "code",
      "source": [
        "class PPO:\n",
        "    def __init__(\n",
        "        self, policy, optimizer, cliprange=0.2, value_loss_coef=0.25, max_grad_norm=0.5\n",
        "    ):\n",
        "        self.policy = policy\n",
        "        self.optimizer = optimizer\n",
        "        self.cliprange = cliprange\n",
        "        self.value_loss_coef = value_loss_coef\n",
        "        self.max_grad_norm = max_grad_norm\n",
        "\n",
        "    def policy_loss(self, trajectory, act):\n",
        "\n",
        "        states = torch.tensor(trajectory[\"observations\"], dtype=torch.float32, device=device)\n",
        "        raw_actions = torch.tensor(trajectory[\"raw_actions\"], dtype=torch.float32, device=device)\n",
        "\n",
        "        act_output = act(states, training=True)\n",
        "        dist = act_output[\"distribution\"]\n",
        "\n",
        "\n",
        "        log_prob_raw = dist.log_prob(raw_actions)\n",
        "\n",
        "        # Поправка Якобиана (в стабильной форме)\n",
        "        log_jacobian = 2 * (torch.log(torch.tensor(2.0)) - raw_actions - torch.nn.functional.softplus(-2 * raw_actions))\n",
        "        log_jacobian = log_jacobian.sum(dim=-1)  # Суммируем по всем компонентам действия\n",
        "\n",
        "        new_log_probs = log_prob_raw - log_jacobian\n",
        "\n",
        "\n",
        "        old_log_probs = torch.tensor(trajectory['log_probs'], dtype=torch.float32, device=device)\n",
        "\n",
        "        ratio = (new_log_probs - old_log_probs).exp()\n",
        "\n",
        "\n",
        "        advantages = torch.tensor(trajectory[\"advantages\"], dtype=torch.float32, device=device)\n",
        "\n",
        "        J = ratio * advantages\n",
        "        J_clipped = torch.clip(ratio, 1 - self.cliprange, 1 + self.cliprange) * advantages\n",
        "\n",
        "        loss = -torch.mean(torch.min(J, J_clipped))\n",
        "\n",
        "        return loss\n",
        "\n",
        "    def value_loss(self, trajectory, act):\n",
        "\n",
        "        states = torch.tensor(trajectory[\"observations\"], dtype=torch.float32, device=device)\n",
        "        targets = torch.tensor(trajectory[\"value_targets\"], dtype=torch.float32, device=device)\n",
        "\n",
        "        act_output = act(states, training=True)\n",
        "        values = act_output[\"values\"]\n",
        "\n",
        "        l_simple = (values - targets) ** 2\n",
        "\n",
        "        values_old = torch.tensor(trajectory[\"values\"], dtype=torch.float32, device=device)\n",
        "\n",
        "        l_clipped = (\n",
        "            values_old + torch.clip(values - values_old, -self.cliprange, self.cliprange) - targets\n",
        "        ) ** 2\n",
        "\n",
        "        loss = torch.mean(torch.max(l_simple, l_clipped))\n",
        "\n",
        "        return loss\n",
        "\n",
        "    def loss(self, trajectory):\n",
        "        p_loss = self.policy_loss(trajectory, self.policy.act)\n",
        "        v_loss = self.value_loss(trajectory, self.policy.act)\n",
        "        total_loss = p_loss + self.value_loss_coef * v_loss\n",
        "        return total_loss\n",
        "\n",
        "    def step(self, trajectory):\n",
        "        loss_final = self.loss(trajectory)\n",
        "\n",
        "        self.optimizer.zero_grad()\n",
        "        loss_final.backward()\n",
        "\n",
        "        self.optimizer.step()\n"
      ],
      "metadata": {
        "id": "f0CNAXJGsNZc"
      },
      "execution_count": 20,
      "outputs": []
    },
    {
      "cell_type": "markdown",
      "metadata": {
        "id": "AVNS0IFhNCWB"
      },
      "source": [
        "Now everything is ready to do training. In one million of interactions it should be possible to\n",
        "achieve the total raw reward of about 1500. You should plot this quantity with respect to\n",
        "`runner.step_var` &mdash; the number of interactions with the environment. It is highly\n",
        "encouraged to also provide plots of the following quantities (these are useful for debugging as well):\n",
        "\n",
        "* [Coefficient of Determination](https://en.wikipedia.org/wiki/Coefficient_of_determination) between\n",
        "value targets and value predictions\n",
        "* Entropy of the policy $\\pi$\n",
        "* Value loss\n",
        "* Policy loss\n",
        "* Value targets\n",
        "* Value predictions\n",
        "* Gradient norm\n",
        "* Advantages\n",
        "\n",
        "For optimization it is suggested to use Adam optimizer with linearly annealing learning rate\n",
        "from 3e-4 to 0 and epsilon 1e-5."
      ]
    },
    {
      "cell_type": "code",
      "execution_count": 21,
      "metadata": {
        "id": "WmroaOHX33nZ"
      },
      "outputs": [],
      "source": [
        "state_dim = vec_env.single_observation_space.shape[0]\n",
        "action_dim = vec_env.single_action_space.shape[0]\n",
        "\n",
        "model = PolicyModel(state_dim, action_dim)\n",
        "# model = model.cuda()\n",
        "model = model.cpu()\n",
        "policy = Policy(model)\n",
        "\n",
        "num_envs = 1\n",
        "vec_env = make_vec_env(num_envs=num_envs)\n",
        "sampler = make_ppo_sampler(vec_env, policy)\n",
        "\n",
        "optimizer = torch.optim.Adam(policy.model.parameters(), lr=3e-4, eps=1e-5)\n",
        "n_iter = 300000\n",
        "\n",
        "lr_mult = lambda epoch: (1 - (epoch / n_iter))\n",
        "sched = torch.optim.lr_scheduler.LambdaLR(optimizer, lr_mult)\n",
        "\n",
        "ppo = PPO(policy, optimizer)"
      ]
    },
    {
      "cell_type": "code",
      "execution_count": 22,
      "metadata": {
        "id": "Psvv8oru3POG"
      },
      "outputs": [],
      "source": [
        "from IPython.display import clear_output\n",
        "from matplotlib import pyplot as plt"
      ]
    },
    {
      "cell_type": "code",
      "execution_count": 23,
      "metadata": {
        "id": "2W5StJsb1mz2",
        "colab": {
          "base_uri": "https://localhost:8080/",
          "height": 490
        },
        "outputId": "52875654-d375-4959-8983-17ba1bfc37c3"
      },
      "outputs": [
        {
          "output_type": "display_data",
          "data": {
            "text/plain": [
              "<Figure size 640x480 with 1 Axes>"
            ],
            "image/png": "[encoded data removed]"
          },
          "metadata": {}
        },
        {
          "output_type": "stream",
          "name": "stderr",
          "text": [
            "\r100%|██████████| 300000/300000 [2:08:18<00:00, 38.97it/s] \n"
          ]
        }
      ],
      "source": [
        "steps = []\n",
        "rewards = []\n",
        "\n",
        "for i in tqdm(range(n_iter)):\n",
        "    trajectory = sampler.get_next()\n",
        "\n",
        "    if (i + 1) % 100 == 0:\n",
        "        clear_output(True)\n",
        "        rewards.append(vec_env.env.env.env.return_queue[-1])\n",
        "        steps.append(sampler.runner.step_var)\n",
        "\n",
        "        plt.plot(steps, rewards, label=\"episode rewards\")\n",
        "        plt.title(\"Reward\")\n",
        "        plt.xlabel(\"Total steps\")\n",
        "        plt.ylabel(\"Reward\")\n",
        "        plt.grid()\n",
        "        plt.show()\n",
        "\n",
        "    ppo.step(trajectory)\n",
        "    sched.step()"
      ]
    },
    {
      "cell_type": "markdown",
      "metadata": {
        "id": "-xQipb1w48Qz"
      },
      "source": [
        "## Evaluation"
      ]
    },
    {
      "cell_type": "code",
      "execution_count": 24,
      "metadata": {
        "id": "sixQI_jMASJR"
      },
      "outputs": [],
      "source": [
        "def evaluate(env, actor, n_games=1, t_max=1000):\n",
        "    \"\"\"\n",
        "    Plays n_games and returns rewards and rendered games\n",
        "    \"\"\"\n",
        "    rewards = []\n",
        "\n",
        "    for _ in range(n_games):\n",
        "        s, _ = env.reset()\n",
        "\n",
        "        R = 0\n",
        "        for _ in range(t_max):\n",
        "            # select action for final evaluation of your policy\n",
        "            # action = actor.act(np.array([s]), training=False)[\"actions\"]\n",
        "            action_dict = actor.act(np.array([s]), training=False)\n",
        "            action = action_dict[\"actions\"]\n",
        "\n",
        "            # Проверка и преобразование формы действия\n",
        "            if action.ndim == 2 and action.shape[0] == 1:\n",
        "                action = action[0]  # Преобразуем (1, 6) -> (6,)\n",
        "\n",
        "            s, r, terminated, truncated, _ = env.step(action)\n",
        "\n",
        "            R += r\n",
        "\n",
        "            if terminated or truncated:\n",
        "                break\n",
        "\n",
        "        rewards.append(R)\n",
        "    return np.array(rewards)"
      ]
    },
    {
      "cell_type": "code",
      "execution_count": null,
      "metadata": {
        "id": "JHPFX0eZ48Q0",
        "colab": {
          "base_uri": "https://localhost:8080/"
        },
        "outputId": "2090efa7-56ee-4d26-8df0-0434f58078b1"
      },
      "outputs": [
        {
          "output_type": "stream",
          "name": "stderr",
          "text": [
            "/usr/local/lib/python3.12/dist-packages/moviepy/config_defaults.py:47: SyntaxWarning: invalid escape sequence '\\P'\n",
            "  IMAGEMAGICK_BINARY = r\"C:\\Program Files\\ImageMagick-6.8.8-Q16\\magick.exe\"\n"
          ]
        }
      ],
      "source": [
        "from gymnasium.wrappers import (\n",
        "    RecordVideo,\n",
        "    NormalizeObservation as SingleEnvNormalization,\n",
        ")\n",
        "\n",
        "# let's hope this will work\n",
        "# don't forget to pray\n",
        "test_env = gym.make(\"HalfCheetah-v5\", render_mode=\"rgb_array\")\n",
        "test_env = SingleEnvNormalization(test_env)\n",
        "test_env.obs_rms = (\n",
        "    vec_env.env.env.obs_rms\n",
        ")  # use the same statistics collected on training\n",
        "env_monitor = RecordVideo(env=test_env, video_folder=\"./videos\")\n",
        "results = evaluate(env_monitor, policy, n_games=5, t_max=1000)\n",
        "\n",
        "print(results)"
      ]
    },
    {
      "cell_type": "code",
      "source": [
        "from pathlib import Path\n",
        "\n",
        "video_dir = Path(\"videos\")\n",
        "if not video_dir.exists():\n",
        "    print(f\"Директория {video_dir} не существует!\")\n",
        "else:\n",
        "    print(f\"Файлы в {video_dir}:\")\n",
        "    for f in video_dir.iterdir():\n",
        "        print(f\" - {f.name}\")"
      ],
      "metadata": {
        "id": "vGvejCrOKg3c"
      },
      "execution_count": null,
      "outputs": []
    },
    {
      "cell_type": "code",
      "execution_count": null,
      "metadata": {
        "id": "gyOigVor48Q0"
      },
      "outputs": [],
      "source": [
        "# Show video. This may not work in some setups. If it doesn't\n",
        "# work for you, you can download the videos and view them locally.\n",
        "\n",
        "from pathlib import Path\n",
        "from base64 import b64encode\n",
        "from IPython.display import HTML\n",
        "import sys\n",
        "\n",
        "video_paths = sorted([s for s in Path(\"videos\").iterdir() if s.suffix == \".mp4\"])\n",
        "video_path = video_paths[0]  # You can also try other indices\n",
        "\n",
        "if \"google.colab\" in sys.modules:\n",
        "    # https://stackoverflow.com/a/57378660/1214547\n",
        "    with video_path.open(\"rb\") as fp:\n",
        "        mp4 = fp.read()\n",
        "    data_url = \"data:video/mp4;base64,\" + b64encode(mp4).decode()\n",
        "else:\n",
        "    data_url = str(video_path)\n",
        "\n",
        "HTML(\n",
        "    \"\"\"\n",
        "<video width=\"640\" height=\"480\" controls>\n",
        "  <source src=\"{}\" type=\"video/mp4\">\n",
        "</video>\n",
        "\"\"\".format(\n",
        "        data_url\n",
        "    )\n",
        ")"
      ]
    }
  ],
  "metadata": {
    "colab": {
      "provenance": [],
      "gpuType": "T4"
    },
    "kernelspec": {
      "display_name": "Python 3",
      "name": "python3"
    },
    "language_info": {
      "codemirror_mode": {
        "name": "ipython",
        "version": 3
      },
      "file_extension": ".py",
      "mimetype": "text/x-python",
      "name": "python",
      "nbconvert_exporter": "python",
      "pygments_lexer": "ipython3",
      "version": "3.8.5"
    },
    "accelerator": "GPU"
  },
  "nbformat": 4,
  "nbformat_minor": 0
}