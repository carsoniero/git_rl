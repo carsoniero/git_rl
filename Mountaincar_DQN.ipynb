{
  "cells": [
    {
      "cell_type": "markdown",
      "source": [
        "# Tutorial of Reinforcement Learning (DQN/MountainCar)"
      ],
      "metadata": {
        "id": "xFA3j06oUHVl"
      }
    },
    {
      "cell_type": "markdown",
      "source": [
        "## 1. Preparation"
      ],
      "metadata": {
        "id": "ApanDCxUg4qk"
      }
    },
    {
      "cell_type": "markdown",
      "source": [
        "### 1.1. Install"
      ],
      "metadata": {
        "id": "AvpQlPmXiYqT"
      }
    },
    {
      "cell_type": "code",
      "source": [
        "## Python\n",
        "!python --version"
      ],
      "metadata": {
        "colab": {
          "base_uri": "https://localhost:8080/"
        },
        "id": "ta9Ijc5urEvz",
        "outputId": "7c9dca0a-143b-47c8-8ac3-6ec2c8bab6f7"
      },
      "execution_count": 122,
      "outputs": [
        {
          "output_type": "stream",
          "name": "stdout",
          "text": [
            "Python 3.12.11\n"
          ]
        }
      ]
    },
    {
      "cell_type": "code",
      "source": [
        "\n",
        "## PyTorch\n",
        "!python -c 'import torch; print(torch.__version__)'"
      ],
      "metadata": {
        "colab": {
          "base_uri": "https://localhost:8080/"
        },
        "id": "EEuPg5mxrLR1",
        "outputId": "4de61725-9c58-4436-c7c3-b57f7a511c29"
      },
      "execution_count": 123,
      "outputs": [
        {
          "output_type": "stream",
          "name": "stdout",
          "text": [
            "2.8.0+cu126\n"
          ]
        }
      ]
    },
    {
      "cell_type": "code",
      "source": [
        "## CUDA\n",
        "!nvcc --version"
      ],
      "metadata": {
        "colab": {
          "base_uri": "https://localhost:8080/"
        },
        "id": "9j20ptgArNA-",
        "outputId": "cf6c0adc-ce29-4777-8e59-0e71c187b314"
      },
      "execution_count": 124,
      "outputs": [
        {
          "output_type": "stream",
          "name": "stdout",
          "text": [
            "nvcc: NVIDIA (R) Cuda compiler driver\n",
            "Copyright (c) 2005-2024 NVIDIA Corporation\n",
            "Built on Thu_Jun__6_02:18:23_PDT_2024\n",
            "Cuda compilation tools, release 12.5, V12.5.82\n",
            "Build cuda_12.5.r12.5/compiler.34385749_0\n"
          ]
        }
      ]
    },
    {
      "cell_type": "code",
      "source": [
        "!nvidia-smi"
      ],
      "metadata": {
        "colab": {
          "base_uri": "https://localhost:8080/"
        },
        "id": "HI6dO4nXrOGY",
        "outputId": "33f65831-1fa7-4bd0-f727-bb2060448572"
      },
      "execution_count": 125,
      "outputs": [
        {
          "output_type": "stream",
          "name": "stdout",
          "text": [
            "/bin/bash: line 1: nvidia-smi: command not found\n"
          ]
        }
      ]
    },
    {
      "cell_type": "code",
      "source": [
        "!pip install --upgrade gymnasium[classic-control]"
      ],
      "metadata": {
        "colab": {
          "base_uri": "https://localhost:8080/"
        },
        "id": "riZdl4BprSCV",
        "outputId": "c61dc392-b8d5-4b96-e1a4-f40b34f46263"
      },
      "execution_count": 127,
      "outputs": [
        {
          "output_type": "stream",
          "name": "stdout",
          "text": [
            "Requirement already satisfied: gymnasium[classic-control] in /usr/local/lib/python3.12/dist-packages (1.2.0)\n",
            "Requirement already satisfied: numpy>=1.21.0 in /usr/local/lib/python3.12/dist-packages (from gymnasium[classic-control]) (2.0.2)\n",
            "Requirement already satisfied: cloudpickle>=1.2.0 in /usr/local/lib/python3.12/dist-packages (from gymnasium[classic-control]) (3.1.1)\n",
            "Requirement already satisfied: typing-extensions>=4.3.0 in /usr/local/lib/python3.12/dist-packages (from gymnasium[classic-control]) (4.15.0)\n",
            "Requirement already satisfied: farama-notifications>=0.0.1 in /usr/local/lib/python3.12/dist-packages (from gymnasium[classic-control]) (0.0.4)\n",
            "Requirement already satisfied: pygame>=2.1.3 in /usr/local/lib/python3.12/dist-packages (from gymnasium[classic-control]) (2.6.1)\n"
          ]
        }
      ]
    },
    {
      "cell_type": "markdown",
      "source": [
        "### 1.2. Import"
      ],
      "metadata": {
        "id": "D5li2cg-tY_D"
      }
    },
    {
      "cell_type": "code",
      "source": [
        "import os\n",
        "import sys\n",
        "import numpy as np\n",
        "import scipy as sp\n",
        "import pandas as pd\n",
        "import cv2\n",
        "import matplotlib\n",
        "import matplotlib.pyplot as plt\n",
        "import matplotlib.animation\n",
        "import pickle\n",
        "import re\n",
        "import csv\n",
        "import math\n",
        "import random\n",
        "import time\n",
        "import datetime"
      ],
      "metadata": {
        "id": "jnm1QSsptzRX"
      },
      "execution_count": 131,
      "outputs": []
    },
    {
      "cell_type": "code",
      "source": [
        "import torch\n",
        "import torch.nn as nn\n",
        "import torch.nn.functional as F\n",
        "import torch.optim as optim"
      ],
      "metadata": {
        "id": "i2CTmtApt3NZ"
      },
      "execution_count": 133,
      "outputs": []
    },
    {
      "cell_type": "code",
      "source": [
        "import gymnasium as gym"
      ],
      "metadata": {
        "id": "_K82fRmxt6gH"
      },
      "execution_count": 134,
      "outputs": []
    },
    {
      "cell_type": "code",
      "source": [
        "from collections import namedtuple\n",
        "from collections import deque\n",
        "from itertools import count"
      ],
      "metadata": {
        "id": "t50oz42rt8zf"
      },
      "execution_count": 135,
      "outputs": []
    },
    {
      "cell_type": "code",
      "source": [
        "import glob\n",
        "import io\n",
        "import base64\n",
        "import IPython"
      ],
      "metadata": {
        "id": "4AH-3JF3sQJG"
      },
      "execution_count": 136,
      "outputs": []
    },
    {
      "cell_type": "code",
      "source": [
        "import pygame\n",
        "import moviepy"
      ],
      "metadata": {
        "id": "Pg7egKILaZYg"
      },
      "execution_count": 137,
      "outputs": []
    },
    {
      "cell_type": "code",
      "source": [
        "from typing import Optional"
      ],
      "metadata": {
        "id": "kuj6meVhaaqn"
      },
      "execution_count": 138,
      "outputs": []
    },
    {
      "cell_type": "markdown",
      "source": [
        "### 1.3. Setup"
      ],
      "metadata": {
        "id": "VXfwMneVu5AF"
      }
    },
    {
      "cell_type": "code",
      "source": [
        "project = 'mountaincar'"
      ],
      "metadata": {
        "id": "jHcFJKcVu6ff"
      },
      "execution_count": 142,
      "outputs": []
    },
    {
      "cell_type": "code",
      "source": [
        "output_dir = project + '/output'\n",
        "checkpoint_dir = project + '/checkpoint'"
      ],
      "metadata": {
        "id": "p5rTqkuuvA7J"
      },
      "execution_count": 143,
      "outputs": []
    },
    {
      "cell_type": "code",
      "source": [
        "!mkdir -p $output_dir\n",
        "!mkdir -p $checkpoint_dir"
      ],
      "metadata": {
        "id": "zfirz_UTUqSd"
      },
      "execution_count": 144,
      "outputs": []
    },
    {
      "cell_type": "code",
      "source": [
        "if torch.cuda.is_available() :\n",
        "    device = 'cuda'\n",
        "    #device = 'cuda:0'\n",
        "else :\n",
        "    device = 'cpu'"
      ],
      "metadata": {
        "id": "HKj8YQZMvEA8"
      },
      "execution_count": 145,
      "outputs": []
    },
    {
      "cell_type": "markdown",
      "source": [
        "## 2. Sample (MountainCar)"
      ],
      "metadata": {
        "id": "xc_OMgMFvOZN"
      }
    },
    {
      "cell_type": "markdown",
      "source": [
        "### 2.1. Environment"
      ],
      "metadata": {
        "id": "LNK51b6TYqhs"
      }
    },
    {
      "cell_type": "markdown",
      "source": [
        "#### 2.1.1. Environment Setup"
      ],
      "metadata": {
        "id": "QmVFdVv_4Uke"
      }
    },
    {
      "cell_type": "code",
      "source": [
        "env = gym.make('MountainCar-v0', render_mode='rgb_array')"
      ],
      "metadata": {
        "id": "9lB_dQLj4XRs",
        "colab": {
          "base_uri": "https://localhost:8080/"
        },
        "outputId": "29381c23-b91c-4e99-9c0f-9ab6d963855d"
      },
      "execution_count": 146,
      "outputs": [
        {
          "output_type": "stream",
          "name": "stderr",
          "text": [
            "/usr/local/lib/python3.12/dist-packages/gymnasium/wrappers/rendering.py:432: UserWarning: \u001b[33mWARN: Unable to save last video! Did you call close()?\u001b[0m\n",
            "  logger.warn(\"Unable to save last video! Did you call close()?\")\n"
          ]
        }
      ]
    },
    {
      "cell_type": "code",
      "source": [
        "env = gym.wrappers.RecordVideo(env, output_dir)"
      ],
      "metadata": {
        "id": "pX1QdxvQ4ncn",
        "colab": {
          "base_uri": "https://localhost:8080/"
        },
        "outputId": "11450afc-752a-4d10-8f6a-9a81c6f260b8"
      },
      "execution_count": 147,
      "outputs": [
        {
          "output_type": "stream",
          "name": "stderr",
          "text": [
            "/usr/local/lib/python3.12/dist-packages/gymnasium/wrappers/rendering.py:296: UserWarning: \u001b[33mWARN: Overwriting existing videos at /content/mountaincar/output folder (try specifying a different `video_folder` for the `RecordVideo` wrapper if this is not desired)\u001b[0m\n",
            "  logger.warn(\n"
          ]
        }
      ]
    },
    {
      "cell_type": "code",
      "source": [
        "## Action Space\n",
        "env.action_space"
      ],
      "metadata": {
        "colab": {
          "base_uri": "https://localhost:8080/"
        },
        "id": "ZfXrANZD47cl",
        "outputId": "2f0c086e-6bc2-4652-e66a-44691a5ea184"
      },
      "execution_count": 148,
      "outputs": [
        {
          "output_type": "execute_result",
          "data": {
            "text/plain": [
              "Discrete(3)"
            ]
          },
          "metadata": {},
          "execution_count": 148
        }
      ]
    },
    {
      "cell_type": "code",
      "source": [
        "## Observation Space\n",
        "env.observation_space"
      ],
      "metadata": {
        "colab": {
          "base_uri": "https://localhost:8080/"
        },
        "id": "8qwKH6SO5EPi",
        "outputId": "f7985071-ff20-49ca-d200-f0b0591cd2dd"
      },
      "execution_count": 149,
      "outputs": [
        {
          "output_type": "execute_result",
          "data": {
            "text/plain": [
              "Box([-1.2  -0.07], [0.6  0.07], (2,), float32)"
            ]
          },
          "metadata": {},
          "execution_count": 149
        }
      ]
    },
    {
      "cell_type": "code",
      "source": [
        "## Reward Range\n",
        "# env.reward_range"
      ],
      "metadata": {
        "id": "_NUyr1LW5HQT"
      },
      "execution_count": 150,
      "outputs": []
    },
    {
      "cell_type": "code",
      "source": [
        "state, info = env.reset(seed=random.randint(0, (2**24)))\n",
        "state, info"
      ],
      "metadata": {
        "id": "j-tpOVIN5X07",
        "colab": {
          "base_uri": "https://localhost:8080/"
        },
        "outputId": "e6b7dd75-bd29-4d6e-aab2-bd624eab2d68"
      },
      "execution_count": 151,
      "outputs": [
        {
          "output_type": "execute_result",
          "data": {
            "text/plain": [
              "(array([-0.48425806,  0.        ], dtype=float32), {})"
            ]
          },
          "metadata": {},
          "execution_count": 151
        }
      ]
    },
    {
      "cell_type": "code",
      "source": [
        "img = env.render()"
      ],
      "metadata": {
        "id": "UMkNcQ0z6OLz"
      },
      "execution_count": 152,
      "outputs": []
    },
    {
      "cell_type": "code",
      "source": [
        "state_text_01 = f'position = {state[0]:.2f}\\n'\n",
        "state_text_01 += f'velocity = {state[1]:.3f}'\n",
        "state_text_02 = f'steps = 0'"
      ],
      "metadata": {
        "id": "5hHmvgiCbAUm"
      },
      "execution_count": 153,
      "outputs": []
    },
    {
      "cell_type": "code",
      "source": [
        "fig = plt.figure()\n",
        "ax = fig.add_subplot(1, 1, 1)\n",
        "plt.suptitle('Mountain Car', fontsize=16)\n",
        "plt.imshow(img)\n",
        "plt.text(0, 1.03, state_text_01, fontsize=10, transform=ax.transAxes)\n",
        "plt.text(0.82, 1.03, state_text_02, fontsize=10, transform=ax.transAxes)\n",
        "plt.show()"
      ],
      "metadata": {
        "colab": {
          "base_uri": "https://localhost:8080/",
          "height": 458
        },
        "id": "LuZKuxJUB_RF",
        "outputId": "7b6d1ebd-6c91-47e6-b31a-ac122c6286ba"
      },
      "execution_count": 154,
      "outputs": [
        {
          "output_type": "display_data",
          "data": {
            "text/plain": [
              "<Figure size 640x480 with 1 Axes>"
            ],
            "image/png": "[encoded data removed]"
          },
          "metadata": {}
        }
      ]
    },
    {
      "cell_type": "markdown",
      "source": [
        "### 2.2. Algorithm"
      ],
      "metadata": {
        "id": "7anKFDOPY0Ki"
      }
    },
    {
      "cell_type": "markdown",
      "source": [
        "#### 2.2.1. Experience Replay Memory"
      ],
      "metadata": {
        "id": "CBOzjni2v-vn"
      }
    },
    {
      "cell_type": "code",
      "source": [
        "Transition = namedtuple('Transition', ('state', 'action', 'next_state', 'reward'))"
      ],
      "metadata": {
        "id": "Sd6QEl7kviwN"
      },
      "execution_count": 155,
      "outputs": []
    },
    {
      "cell_type": "code",
      "source": [
        "class ReplayMemory(object) :\n",
        "    def __init__(self, capacity) :\n",
        "        self.memory = deque([], maxlen=capacity)\n",
        "    def push(self, *args) :\n",
        "        self.memory.append(Transition(*args))\n",
        "    def sample(self, batch_size) :\n",
        "        return random.sample(self.memory, batch_size)\n",
        "    def __len__(self) :\n",
        "        return len(self.memory)"
      ],
      "metadata": {
        "id": "xHfQDSgRwRa9"
      },
      "execution_count": 156,
      "outputs": []
    },
    {
      "cell_type": "markdown",
      "source": [
        "#### 2.2.2. Network"
      ],
      "metadata": {
        "id": "fnNKxH4yw66J"
      }
    },
    {
      "cell_type": "markdown",
      "source": [
        "##### 2.2.2.1. DQN - Multilayer Perceptron (MLP)"
      ],
      "metadata": {
        "id": "o-Pn1ds7dmU6"
      }
    },
    {
      "cell_type": "code",
      "source": [
        "class DQN_MLP(nn.Module) :\n",
        "    def __init__(self, n_observations, n_actions) :\n",
        "        super(DQN_MLP, self).__init__()\n",
        "        self.layer1 = nn.Linear(n_observations, 128)\n",
        "        self.layer2 = nn.Linear(128, 128)\n",
        "        self.layer3 = nn.Linear(128, n_actions)\n",
        "    def forward(self, x) :\n",
        "        x = F.relu(self.layer1(x))\n",
        "        x = F.relu(self.layer2(x))\n",
        "        return self.layer3(x)"
      ],
      "metadata": {
        "id": "zKP-iWUUxI_6"
      },
      "execution_count": 161,
      "outputs": []
    },
    {
      "cell_type": "markdown",
      "source": [
        "##### 2.2.2.2. DQN - Multilayer Perceptron (MLP) with Dropout Layers"
      ],
      "metadata": {
        "id": "V4BGcfjvKf2m"
      }
    },
    {
      "cell_type": "code",
      "source": [
        "class DQN_MLP_DROPOUT(nn.Module) :\n",
        "    def __init__(self, n_observations, n_actions) :\n",
        "        super(DQN_MLP_DROPOUT, self).__init__()\n",
        "        self.layer1 = nn.Linear(n_observations, 128)\n",
        "        self.dropout1 = nn.Dropout(0.1)\n",
        "        self.layer2 = nn.Linear(128, 128)\n",
        "        self.dropout2 = nn.Dropout(0.1)\n",
        "        self.layer3 = nn.Linear(128, n_actions)\n",
        "    def forward(self, x) :\n",
        "        x = F.relu(self.layer1(x))\n",
        "        x = self.dropout1(x)\n",
        "        x = F.relu(self.layer2(x))\n",
        "        x = self.dropout2(x)\n",
        "        return self.layer3(x)"
      ],
      "metadata": {
        "id": "DBqD8yFOKkT-"
      },
      "execution_count": 162,
      "outputs": []
    },
    {
      "cell_type": "markdown",
      "source": [
        "#### 2.2.3. Action Selection (Epsilon-Greedy Algorithm)"
      ],
      "metadata": {
        "id": "YEJXx4tyxY83"
      }
    },
    {
      "cell_type": "code",
      "source": [
        "def select_action(state) :\n",
        "    global steps_done\n",
        "    sample = random.random()\n",
        "    eps_threshold = EPS_END + (EPS_START - EPS_END) * math.exp(-1. * steps_done / EPS_DECAY)\n",
        "    steps_done += 1\n",
        "    if sample > eps_threshold :\n",
        "        with torch.no_grad() :\n",
        "            return policy_net(state).max(1)[1].view(1, 1), eps_threshold\n",
        "    else :\n",
        "        ## Random Action\n",
        "        return torch.tensor([[env.action_space.sample()]], device=device, dtype=torch.long), eps_threshold"
      ],
      "metadata": {
        "id": "-ojyo_-qx9gP"
      },
      "execution_count": 163,
      "outputs": []
    },
    {
      "cell_type": "markdown",
      "source": [
        "#### 2.2.4. Training Loop"
      ],
      "metadata": {
        "id": "6W2NjEG5017z"
      }
    },
    {
      "cell_type": "code",
      "source": [
        "def optimize_model() :\n",
        "    global state_action_values\n",
        "    global loss\n",
        "    if len(memory) < BATCH_SIZE :\n",
        "        return\n",
        "    transitions = memory.sample(BATCH_SIZE)\n",
        "    batch = Transition(*zip(*transitions))\n",
        "    non_final_mask = torch.tensor(tuple(map(lambda s: s is not None, batch.next_state)), device=device, dtype=torch.bool)\n",
        "    non_final_next_states = torch.cat([s for s in batch.next_state if s is not None])\n",
        "    state_batch = torch.cat(batch.state)\n",
        "    action_batch = torch.cat(batch.action)\n",
        "    reward_batch = torch.cat(batch.reward)\n",
        "    state_action_values = policy_net(state_batch).gather(1, action_batch)\n",
        "    next_state_values = torch.zeros(BATCH_SIZE, device=device)\n",
        "    with torch.no_grad() :\n",
        "        next_state_values[non_final_mask] = target_net(non_final_next_states).max(1)[0]\n",
        "    expected_state_action_values = (next_state_values * GAMMA) + reward_batch\n",
        "    criterion = nn.SmoothL1Loss()\n",
        "    loss = criterion(state_action_values, expected_state_action_values.unsqueeze(1))\n",
        "    optimizer.zero_grad()\n",
        "    loss.backward()\n",
        "    torch.nn.utils.clip_grad_value_(policy_net.parameters(), 1000)\n",
        "    optimizer.step()"
      ],
      "metadata": {
        "id": "yx4QyG0z1EdS"
      },
      "execution_count": 164,
      "outputs": []
    },
    {
      "cell_type": "markdown",
      "source": [
        "#### 2.2.5. Plot Function"
      ],
      "metadata": {
        "id": "advwHE272vBE"
      }
    },
    {
      "cell_type": "code",
      "source": [
        "def plot_rewards(realtime=False) :\n",
        "    fig = plt.figure()\n",
        "    rewards = torch.tensor(episode_rewards, dtype=torch.float)\n",
        "    steps = torch.tensor(episode_steps, dtype=torch.int)\n",
        "    if realtime :\n",
        "        plt.clf()\n",
        "        plt.suptitle('Training...')\n",
        "    else :\n",
        "        plt.suptitle('Training Result')\n",
        "    ax1 = fig.add_subplot(2, 1, 1)\n",
        "    #ax1.set_xlabel('Episode')\n",
        "    ax1.set_ylabel('Reward')\n",
        "    ax1.grid(linestyle='--')\n",
        "    ax1.tick_params('x', length=0)\n",
        "    ax1.plot(rewards.numpy())\n",
        "    if len(rewards) >= 100 :\n",
        "        bin = 100\n",
        "    else :\n",
        "        bin = len(rewards)\n",
        "    means = rewards.unfold(0, bin, 1).mean(1).view(-1)\n",
        "    means = torch.cat((torch.zeros(bin - 1) + means[0], means))\n",
        "    ax1.plot(means.numpy())\n",
        "    ax2 = fig.add_subplot(2, 1, 2, sharex=ax1)\n",
        "    ax2.set_xlabel('Episode')\n",
        "    ax2.set_ylabel('Steps')\n",
        "    ax2.grid(linestyle='--')\n",
        "    ax2.plot(steps.numpy())\n",
        "    plt.setp(ax1.get_xticklabels(), visible=False)\n",
        "    plt.subplots_adjust(hspace=0.10)\n",
        "    plt.pause(0.001)\n",
        "    if realtime :\n",
        "        IPython.display.display(plt.gcf())\n",
        "        IPython.display.clear_output(wait=True)\n",
        "    else :\n",
        "        IPython.display.display(plt.gcf())"
      ],
      "metadata": {
        "id": "35P378DP21ta"
      },
      "execution_count": 165,
      "outputs": []
    },
    {
      "cell_type": "markdown",
      "source": [
        "#### 2.2.6. Utilities"
      ],
      "metadata": {
        "id": "o7dVX7xuTzui"
      }
    },
    {
      "cell_type": "code",
      "source": [
        "def atoi(text) :\n",
        "    return int(text) if text.isdigit() else text"
      ],
      "metadata": {
        "id": "IrTtyWJBEUU-"
      },
      "execution_count": 166,
      "outputs": []
    },
    {
      "cell_type": "code",
      "source": [
        "def natural_keys(text) :\n",
        "    return [atoi(c) for c in re.split(r'(\\d+)', text)]"
      ],
      "metadata": {
        "id": "_pgepbIqEYBw"
      },
      "execution_count": 167,
      "outputs": []
    },
    {
      "cell_type": "markdown",
      "source": [
        "### 2.3. Training"
      ],
      "metadata": {
        "id": "S0SGSW97ZamC"
      }
    },
    {
      "cell_type": "markdown",
      "source": [
        "#### 2.3.1. Hyperparameters"
      ],
      "metadata": {
        "id": "dKc8hxRy6gM8"
      }
    },
    {
      "cell_type": "code",
      "source": [
        "## Q-Learning: Batch Size\n",
        "BATCH_SIZE = 128"
      ],
      "metadata": {
        "id": "v_Fnb3rA6iAr"
      },
      "execution_count": 168,
      "outputs": []
    },
    {
      "cell_type": "code",
      "source": [
        "## Q-Learning: Discount Factor\n",
        "GAMMA = 0.99"
      ],
      "metadata": {
        "id": "1wCCjSky6iDP"
      },
      "execution_count": 169,
      "outputs": []
    },
    {
      "cell_type": "code",
      "source": [
        "## Epsilon-Greedy Thresholds\n",
        "EPS_START = 0.90\n",
        "EPS_END = 0.05\n",
        "EPS_DECAY = 500"
      ],
      "metadata": {
        "id": "BI4Y8b1Z7CZy"
      },
      "execution_count": 170,
      "outputs": []
    },
    {
      "cell_type": "code",
      "source": [
        "## Target Network: Update Rate\n",
        "TAU = 0.005"
      ],
      "metadata": {
        "id": "oewULyRk7Uho"
      },
      "execution_count": 171,
      "outputs": []
    },
    {
      "cell_type": "code",
      "source": [
        "## Optimizer: Learning Rate\n",
        "LR = 1e-04"
      ],
      "metadata": {
        "id": "bNkmpQ5c7jI4"
      },
      "execution_count": 172,
      "outputs": []
    },
    {
      "cell_type": "markdown",
      "source": [
        "#### 2.3.2. Model Initialization"
      ],
      "metadata": {
        "id": "Uabw7s6V72_I"
      }
    },
    {
      "cell_type": "code",
      "source": [
        "n_actions = env.action_space.n"
      ],
      "metadata": {
        "id": "zyung6pj8C6P"
      },
      "execution_count": 173,
      "outputs": []
    },
    {
      "cell_type": "code",
      "source": [
        "#n_observations = len(state)\n",
        "n_observations = state.size"
      ],
      "metadata": {
        "id": "4Ya4mPxm8eFI"
      },
      "execution_count": 174,
      "outputs": []
    },
    {
      "cell_type": "code",
      "source": [
        "policy_net = DQN_MLP(n_observations, n_actions).to(device)\n",
        "target_net = DQN_MLP(n_observations, n_actions).to(device)\n",
        "# policy_net = DQN_MLP_DROPOUT(n_observations, n_actions).to(device)\n",
        "# target_net = DQN_MLP_DROPOUT(n_observations, n_actions).to(device)"
      ],
      "metadata": {
        "id": "zZEzXxoF8hzO"
      },
      "execution_count": 175,
      "outputs": []
    },
    {
      "cell_type": "code",
      "source": [
        "target_net.load_state_dict(policy_net.state_dict())"
      ],
      "metadata": {
        "colab": {
          "base_uri": "https://localhost:8080/"
        },
        "id": "XsuSYfko8pPj",
        "outputId": "78bc45c8-dd5b-41f5-e3c6-4f4e79ce8a1e"
      },
      "execution_count": 176,
      "outputs": [
        {
          "output_type": "execute_result",
          "data": {
            "text/plain": [
              "<All keys matched successfully>"
            ]
          },
          "metadata": {},
          "execution_count": 176
        }
      ]
    },
    {
      "cell_type": "code",
      "source": [
        "## In case of recovery\n",
        "#policy_net.load_state_dict(torch.load(checkpoint_dir + '/policy_net_final.pth'))\n",
        "#target_net.load_state_dict(torch.load(checkpoint_dir + '/target_net_final.pth'))"
      ],
      "metadata": {
        "id": "7jpOHmPGG5Dm"
      },
      "execution_count": 177,
      "outputs": []
    },
    {
      "cell_type": "code",
      "source": [
        "optimizer = optim.Adam(policy_net.parameters(), lr=LR, amsgrad=True)"
      ],
      "metadata": {
        "id": "N86k7Zga8uXX"
      },
      "execution_count": 178,
      "outputs": []
    },
    {
      "cell_type": "code",
      "source": [
        "memory = ReplayMemory(10000)\n",
        "#memory = ReplayMemory(100000)"
      ],
      "metadata": {
        "id": "0sNVicj3xJCZ"
      },
      "execution_count": 179,
      "outputs": []
    },
    {
      "cell_type": "code",
      "source": [
        "steps_done = 0\n",
        "state_action_values = np.array(0.0)\n",
        "loss = 0.0"
      ],
      "metadata": {
        "id": "ve3QJWZJ9Tlh"
      },
      "execution_count": 180,
      "outputs": []
    },
    {
      "cell_type": "code",
      "source": [
        "episode_rewards = []\n",
        "episode_steps = []"
      ],
      "metadata": {
        "id": "6lxZthcI9g-O"
      },
      "execution_count": 181,
      "outputs": []
    },
    {
      "cell_type": "markdown",
      "source": [
        "#### 2.3.3. Training"
      ],
      "metadata": {
        "id": "fz5tgti39qZ1"
      }
    },
    {
      "cell_type": "code",
      "source": [
        "num_episodes = 2000"
      ],
      "metadata": {
        "id": "xPZfLG32viy7"
      },
      "execution_count": 182,
      "outputs": []
    },
    {
      "cell_type": "code",
      "source": [
        "num_episodes_save = 100"
      ],
      "metadata": {
        "id": "rcoKR8MOAobh"
      },
      "execution_count": 183,
      "outputs": []
    },
    {
      "cell_type": "code",
      "source": [
        "def energy(state) :\n",
        "    x = state[0]\n",
        "    v = state[1]\n",
        "    m = 1.0\n",
        "    g = 0.0025\n",
        "    h = np.sin((x - (0.5 * np.pi)) + 0.5) + 1.0\n",
        "    u = m * g * h\n",
        "    k = 0.5 * v * v\n",
        "    xmax = 0.6\n",
        "    vmax = 0.07\n",
        "    n = 1 / ((m * g * (np.sin((xmax - (0.5 * np.pi)) + 0.5) + 1.0)) + (0.5 * vmax * vmax))\n",
        "    e = n * (u + k)\n",
        "    return e"
      ],
      "metadata": {
        "id": "vnzLrUeXLOM-"
      },
      "execution_count": 184,
      "outputs": []
    },
    {
      "cell_type": "code",
      "source": [
        "for i_episode in range(num_episodes) :\n",
        "    state, info = env.reset(seed=random.randint(0, (2**24)))\n",
        "    state = torch.tensor(state, dtype=torch.float32, device=device).unsqueeze(0)\n",
        "    reward_total = 0\n",
        "    for t in count() :\n",
        "        action, eps_threshold = select_action(state)\n",
        "        observation, reward, terminated, truncated, info = env.step(action.item())\n",
        "        ################################################################################\n",
        "        ## Reward Modification\n",
        "        ################################################################################\n",
        "        ## 1. Time penalty to be -0.01\n",
        "        ## 2. Time variation of normalized mechanical energy\n",
        "        ## 3. Goal bonus\n",
        "        ##################################################\n",
        "        mod_reward = True\n",
        "        if mod_reward :\n",
        "            reward = (reward * 0.01) + (energy(observation) - energy(state.numpy()[0]))\n",
        "            print(f\"x={observation[0]:.3f}, v={observation[1]:.3f}, ΔE={energy(observation)-energy(state.numpy()[0]):.3f}, r={reward:.3f}\")\n",
        "            if observation[0] >= 0.5 :\n",
        "                reward = reward + 1.0\n",
        "            else :\n",
        "                reward = reward\n",
        "        ################################################################################\n",
        "        ################################################################################\n",
        "        reward = torch.tensor([reward], device=device)\n",
        "        reward_total += reward\n",
        "        done = terminated or truncated\n",
        "        if terminated :\n",
        "            next_state = None\n",
        "        else :\n",
        "            next_state = torch.tensor(observation, dtype=torch.float32, device=device).unsqueeze(0)\n",
        "        memory.push(state, action, next_state, reward)\n",
        "        state = next_state\n",
        "        optimize_model()\n",
        "        target_net_state_dict = target_net.state_dict()\n",
        "        policy_net_state_dict = policy_net.state_dict()\n",
        "        for key in policy_net_state_dict :\n",
        "            target_net_state_dict[key] = policy_net_state_dict[key] * TAU + target_net_state_dict[key] * (1 - TAU)\n",
        "        target_net.load_state_dict(target_net_state_dict)\n",
        "        if done :\n",
        "            episode_rewards.append(reward_total)\n",
        "            episode_steps.append(t + 1)\n",
        "            # print(f'episode: {i_episode}, steps: {(t + 1)}, reward: {reward_total[0]:.3f}, loss: {loss:.3e}, mean_q: {state_action_values.mean():.3e}')\n",
        "            if i_episode % 20 == 0 :\n",
        "                IPython.display.clear_output(wait=True)\n",
        "                plot_rewards(realtime=False)\n",
        "            break\n",
        "    if (i_episode % num_episodes_save == 0) :\n",
        "        torch.save(policy_net.state_dict(), checkpoint_dir + '/policy_net_' + str(i_episode) + '.pth')\n",
        "        torch.save(target_net.state_dict(), checkpoint_dir + '/target_net_' + str(i_episode) + '.pth')\n",
        "    if (i_episode == range(num_episodes)[-1]) :\n",
        "        torch.save(policy_net.state_dict(), checkpoint_dir + '/policy_net_final.pth')\n",
        "        torch.save(target_net.state_dict(), checkpoint_dir + '/target_net_final.pth')\n",
        "\n",
        "IPython.display.clear_output(wait=True)\n",
        "print(f'episode: {i_episode}, steps: {(t + 1)}, reward: {reward_total[0]:.3f}, loss: {loss:.3e}, mean_q: {state_action_values.mean():.3e}')\n",
        "plot_rewards()"
      ],
      "metadata": {
        "colab": {
          "base_uri": "https://localhost:8080/",
          "height": 570
        },
        "id": "CmCcyOZM95Eq",
        "outputId": "92d0620e-78cd-4bc0-aed6-79219013fb68"
      },
      "execution_count": 185,
      "outputs": [
        {
          "output_type": "stream",
          "name": "stdout",
          "text": [
            "episode: 1999, steps: 151, reward: 0.088, loss: 2.424e-05, mean_q: 4.341e-01\n"
          ]
        },
        {
          "output_type": "display_data",
          "data": {
            "text/plain": [
              "<Figure size 640x480 with 0 Axes>"
            ]
          },
          "metadata": {}
        },
        {
          "output_type": "display_data",
          "data": {
            "text/plain": [
              "<Figure size 640x480 with 2 Axes>"
            ],
            "image/png": "[encoded data removed]"
          },
          "metadata": {}
        },
        {
          "output_type": "display_data",
          "data": {
            "text/plain": [
              "<Figure size 640x480 with 0 Axes>"
            ]
          },
          "metadata": {}
        },
        {
          "output_type": "display_data",
          "data": {
            "text/plain": [
              "<Figure size 640x480 with 0 Axes>"
            ]
          },
          "metadata": {}
        }
      ]
    },
    {
      "cell_type": "markdown",
      "source": [
        "#### 2.3.4. Video Output"
      ],
      "metadata": {
        "id": "oAXMOeHDERaI"
      }
    },
    {
      "cell_type": "code",
      "source": [
        "mp4list = glob.glob(output_dir + '/rl-video-episode-*.mp4')\n",
        "if len(mp4list) > 0 :\n",
        "    for mp4 in sorted(mp4list, key=natural_keys)[::(len(mp4list) - 1 if len(mp4list) >= 2 else 1)] :\n",
        "        video = io.open(mp4, 'r+b').read()\n",
        "        encoded = base64.b64encode(video)\n",
        "        IPython.display.display(IPython.display.HTML(data='''{mp4}<br>\n",
        "            <video alt=\"{mp4}\" autoplay loop controls style=\"height: 200px;\">\n",
        "            <source src=\"data:video/mp4;base64,{src}\" type=\"video/mp4\">\n",
        "            </video>'''.format(mp4=mp4, src=encoded.decode('ascii'))))"
      ],
      "metadata": {
        "id": "QBW9tzq4EUYl",
        "colab": {
          "base_uri": "https://localhost:8080/",
          "height": 459
        },
        "outputId": "45c5b90c-eeab-4a59-f20b-a81fe85f1e72"
      },
      "execution_count": 186,
      "outputs": [
        {
          "output_type": "display_data",
          "data": {
            "text/plain": [
              "<IPython.core.display.HTML object>"
            ],
            "text/html": [
              "mountaincar/output/rl-video-episode-0.mp4<br>\n",
              "            <video alt=\"mountaincar/output/rl-video-episode-0.mp4\" autoplay loop controls style=\"height: 200px;\">\n",
              "            <source src=\"data:video/mp4;base64,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\" type=\"video/mp4\">\n",
              "            </video>"
            ]
          },
          "metadata": {}
        },
        {
          "output_type": "display_data",
          "data": {
            "text/plain": [
              "<IPython.core.display.HTML object>"
            ],
            "text/html": [
              "mountaincar/output/rl-video-episode-1000.mp4<br>\n",
              "            <video alt=\"mountaincar/output/rl-video-episode-1000.mp4\" autoplay loop controls style=\"height: 200px;\">\n",
              "            <source src=\"data:video/mp4;base64,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\" type=\"video/mp4\">\n",
              "            </video>"
            ]
          },
          "metadata": {}
        }
      ]
    }
  ],
  "metadata": {
    "colab": {
      "provenance": []
    },
    "kernelspec": {
      "display_name": "Python 3",
      "name": "python3"
    },
    "language_info": {
      "name": "python"
    },
    "gpuClass": "standard"
  },
  "nbformat": 4,
  "nbformat_minor": 0
}